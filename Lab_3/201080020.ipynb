{
 "cells": [
  {
   "attachments": {},
   "cell_type": "markdown",
   "metadata": {},
   "source": [
    "# Question 1"
   ]
  },
  {
   "cell_type": "code",
   "execution_count": 7,
   "metadata": {},
   "outputs": [],
   "source": [
    "from PIL import Image, ImageDraw\n",
    "\n",
    "# Define the size of the main rectangle\n",
    "width = 400\n",
    "height = 300\n",
    "\n",
    "# Create a new image with the specified size and white background\n",
    "image = Image.new(\"RGB\", (width, height), \"white\")\n",
    "\n",
    "# Define the size and position of the smaller rectangles\n",
    "small_width = width // 8\n",
    "small_height = height // 8\n",
    "rect1_pos = (0, 0)\n",
    "rect2_pos = (width - small_width, 0)\n",
    "rect3_pos = (0, height - small_height)\n",
    "rect4_pos = (width - small_width, height - small_height)\n",
    "center_rect_pos = (width // 2 - small_width // 2, height // 2 - small_height // 2)\n",
    "\n",
    "# Create a new drawing object for the image\n",
    "draw = ImageDraw.Draw(image)\n",
    "\n",
    "# Draw the smaller rectangles\n",
    "draw.rectangle((rect1_pos, (rect1_pos[0] + small_width, rect1_pos[1] + small_height)), fill=\"yellow\")\n",
    "draw.rectangle((rect2_pos, (rect2_pos[0] + small_width, rect2_pos[1] + small_height)), fill=\"green\")\n",
    "draw.rectangle((rect3_pos, (rect3_pos[0] + small_width, rect3_pos[1] + small_height)), fill=\"red\")\n",
    "draw.rectangle((rect4_pos, (rect4_pos[0] + small_width, rect4_pos[1] + small_height)), fill=\"blue\")\n",
    "draw.rectangle((center_rect_pos, (center_rect_pos[0] + small_width, center_rect_pos[1] + small_height)), fill=\"#6699CC\")\n",
    "\n",
    "text_pos = (center_rect_pos[0] +small_width // 3, center_rect_pos[1]+small_height // 3)\n",
    "\n",
    "draw.text(text_pos, \"VJTI\", fill=\"white\")\n",
    "\n",
    "# Save the image as a file\n",
    "image.show()\n",
    "image.save(\"1_rectangle_image.png\")\n",
    "\n",
    "\n"
   ]
  },
  {
   "cell_type": "code",
   "execution_count": null,
   "metadata": {},
   "outputs": [],
   "source": []
  },
  {
   "attachments": {},
   "cell_type": "markdown",
   "metadata": {},
   "source": [
    "# Question 2\n"
   ]
  },
  {
   "attachments": {},
   "cell_type": "markdown",
   "metadata": {},
   "source": [
    "## 2.3"
   ]
  },
  {
   "cell_type": "code",
   "execution_count": 8,
   "metadata": {},
   "outputs": [
    {
     "name": "stdout",
     "output_type": "stream",
     "text": [
      "Colors name are not specified corretly so, default colors are choosen : \n"
     ]
    }
   ],
   "source": [
    "from PIL import Image, ImageDraw\n",
    "\n",
    "# Define the size of the main rectangle\n",
    "\n",
    "def ThirdOption(width=400,height=300):\n",
    "    # width = 400\n",
    "    # height = 300\n",
    "    colors=[]\n",
    "    colors.append(input('Upper Left  :').lower())\n",
    "    colors.append(input('Upper Right :').lower())\n",
    "    colors.append(input('Lower Left  :').lower())\n",
    "    colors.append(input('Lower Right :').lower())\n",
    "\n",
    "\n",
    "\n",
    "    # Create a new image with the specified size and white background\n",
    "    image = Image.new(\"RGB\", (width, height), \"white\")\n",
    "\n",
    "    # Define the size and position of the smaller rectangles\n",
    "    small_width = width // 2\n",
    "    small_height = height // 2\n",
    "    rect1_pos = (0, 0)\n",
    "    rect2_pos = (width - small_width, 0)\n",
    "    rect3_pos = (0, height - small_height)\n",
    "    rect4_pos = (width - small_width, height - small_height)\n",
    "    center_rect_pos = (width // 2 - small_width // 2, height // 2 - small_height // 2)\n",
    "\n",
    "    # Create a new drawing object for the image\n",
    "    draw = ImageDraw.Draw(image)\n",
    "\n",
    "    # Draw the smaller rectangles\n",
    "    try:\n",
    "        draw.rectangle((rect1_pos, (rect1_pos[0] + small_width, rect1_pos[1] + small_height)), fill=colors[0])\n",
    "        draw.rectangle((rect2_pos, (rect2_pos[0] + small_width, rect2_pos[1] + small_height)), fill=colors[1])\n",
    "        draw.rectangle((rect3_pos, (rect3_pos[0] + small_width, rect3_pos[1] + small_height)), fill=colors[2])\n",
    "        draw.rectangle((rect4_pos, (rect4_pos[0] + small_width, rect4_pos[1] + small_height)), fill=colors[3])\n",
    "    except:\n",
    "        print(\"Colors name are not specified corretly so, default colors are choosen : \")\n",
    "        draw.rectangle((rect1_pos, (rect1_pos[0] + small_width, rect1_pos[1] + small_height)), fill=\"yellow\")\n",
    "        draw.rectangle((rect2_pos, (rect2_pos[0] + small_width, rect2_pos[1] + small_height)), fill=\"green\")\n",
    "        draw.rectangle((rect3_pos, (rect3_pos[0] + small_width, rect3_pos[1] + small_height)), fill=\"red\")\n",
    "        draw.rectangle((rect4_pos, (rect4_pos[0] + small_width, rect4_pos[1] + small_height)), fill=\"blue\")\n",
    "        \n",
    "\n",
    "\n",
    "\n",
    "    image.show()\n",
    "    # Save the image as a file\n",
    "    image.save(\"2_3.png\")\n",
    "ThirdOption(500,400)"
   ]
  },
  {
   "attachments": {},
   "cell_type": "markdown",
   "metadata": {},
   "source": [
    "## 2.2"
   ]
  },
  {
   "cell_type": "code",
   "execution_count": 1,
   "metadata": {},
   "outputs": [],
   "source": [
    "\n",
    "#  Second Image\n",
    "\n",
    "# import required libraries\n",
    "from PIL import Image, ImageDraw\n",
    "\n",
    "# set the size of the rectangle and its bordery\n",
    "def SecondOption(width=700 ,height=500,color='black'):\n",
    "    \n",
    "    width = 700\n",
    "    height = 500\n",
    "    border_thickness = height // 10\n",
    "\n",
    "    # set the size of the inner rectangle and its border\n",
    "    inner_width = width // 2\n",
    "    inner_height = height // 3\n",
    "    inner_border_thickness = int(border_thickness/1.5)\n",
    "\n",
    "    # calculate the position of the inner rectangle\n",
    "    inner_x1 = (width - inner_width) //2\n",
    "    inner_y1 = (height - inner_height) // 2\n",
    "    inner_x2 = inner_x1 + inner_width\n",
    "    inner_y2 = inner_y1 + inner_height\n",
    "\n",
    "    # create a new image\n",
    "    image = Image.new(mode='RGB', size=(width, height), color='white')\n",
    "\n",
    "    # create a drawing object\n",
    "    draw = ImageDraw.Draw(image)\n",
    "\n",
    "    # draw the outer rectangle and its border\n",
    "    outer_x1 = border_thickness // 2\n",
    "    outer_y1 = border_thickness // 2\n",
    "    outer_x2 = width - border_thickness // 2\n",
    "    outer_y2 = height - border_thickness // 2\n",
    "    draw.rectangle(xy=[(outer_x1, outer_y1), (outer_x2, outer_y2)], outline=color, width=border_thickness)\n",
    "\n",
    "    # draw the inner rectangle and its border\n",
    "    draw.rectangle(xy=[(inner_x1, inner_y1), (inner_x2, inner_y2)], outline=color, width=inner_border_thickness)\n",
    "\n",
    "    # save the image\n",
    "    image.show()\n",
    "    image.save('2_2.png')\n",
    "\n",
    "SecondOption(199,299,'red')\n"
   ]
  },
  {
   "attachments": {},
   "cell_type": "markdown",
   "metadata": {},
   "source": [
    "## 2.1"
   ]
  },
  {
   "cell_type": "code",
   "execution_count": 3,
   "metadata": {},
   "outputs": [],
   "source": [
    "# import required libraries\n",
    "from PIL import Image, ImageDraw\n",
    "\n",
    "# set the size of the grid and its borders\n",
    "def FirstOption(width=700,height=500):\n",
    "    # import required libraries\n",
    "\n",
    "    # set the size of the image and the thickness of the grid lines\n",
    "    width = 700\n",
    "    height = 500\n",
    "    line_thickness = height // 10\n",
    "\n",
    "    # get the number of horizontal and vertical lines from the user\n",
    "    num_horizontal_lines = int(input(\"Enter the number of horizontal lines: \"))\n",
    "    num_vertical_lines = int(input(\"Enter the number of vertical lines: \"))\n",
    "\n",
    "    # calculate the spacing between the lines\n",
    "    horizontal_spacing = height // (num_horizontal_lines + 1)\n",
    "    vertical_spacing = width // (num_vertical_lines + 1)\n",
    "\n",
    "    # create a new image\n",
    "    image = Image.new(mode='RGB', size=(width, height), color='white')\n",
    "\n",
    "    # create a drawing object\n",
    "    draw = ImageDraw.Draw(image)\n",
    "\n",
    "    # draw the horizontal lines\n",
    "    for i in range(num_horizontal_lines):\n",
    "        if(i==num_horizontal_lines-1 and i==0):\n",
    "            y = (i + 2) * horizontal_spacing\n",
    "        else:\n",
    "            y = (i + 1) * horizontal_spacing\n",
    "\n",
    "\n",
    "        draw.line(xy=[(0, y), (width, y)], fill='black', width=line_thickness)\n",
    "\n",
    "    # draw the vertical lines\n",
    "    for i in range(num_vertical_lines):\n",
    "        x = (i + 1) * vertical_spacing\n",
    "        draw.line(xy=[(x, 0), (x, height)], fill='black', width=line_thickness)\n",
    "\n",
    "    # save the image\n",
    "    image.show()\n",
    "    image.save('2_1.png')\n",
    "FirstOption()"
   ]
  },
  {
   "cell_type": "code",
   "execution_count": 5,
   "metadata": {},
   "outputs": [],
   "source": [
    "option=int(input(\"Enter option :\"))\n",
    "if option==1:\n",
    "    FirstOption()\n",
    "elif option==2:\n",
    "    SecondOption()\n",
    "else:\n",
    "    ThirdOption()\n"
   ]
  },
  {
   "cell_type": "code",
   "execution_count": null,
   "metadata": {},
   "outputs": [],
   "source": []
  },
  {
   "cell_type": "code",
   "execution_count": null,
   "metadata": {},
   "outputs": [],
   "source": []
  }
 ],
 "metadata": {
  "kernelspec": {
   "display_name": "base",
   "language": "python",
   "name": "python3"
  },
  "language_info": {
   "codemirror_mode": {
    "name": "ipython",
    "version": 3
   },
   "file_extension": ".py",
   "mimetype": "text/x-python",
   "name": "python",
   "nbconvert_exporter": "python",
   "pygments_lexer": "ipython3",
   "version": "3.8.8"
  },
  "orig_nbformat": 4
 },
 "nbformat": 4,
 "nbformat_minor": 2
}
