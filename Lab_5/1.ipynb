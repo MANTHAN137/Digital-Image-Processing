{
 "cells": [
  {
   "attachments": {},
   "cell_type": "markdown",
   "metadata": {},
   "source": [
    "# Assignment 5\n",
    "\n",
    "\n",
    "### Load any RGB image you want\n",
    "### and perform following operations on it."
   ]
  },
  {
   "attachments": {},
   "cell_type": "markdown",
   "metadata": {},
   "source": [
    "#### 1.Convert the input image into gray scale and display it.\n"
   ]
  },
  {
   "cell_type": "code",
   "execution_count": 9,
   "metadata": {},
   "outputs": [],
   "source": [
    "from PIL import Image\n",
    "\n",
    "# Open the input image\n",
    "img = Image.open('image.jpg')\n",
    "gray_img = img.convert('L')\n",
    "gray_img.save('gray.jpg')\n",
    "gray_img.show()"
   ]
  },
  {
   "attachments": {},
   "cell_type": "markdown",
   "metadata": {},
   "source": [
    "#### 2.Convert the input image into binary and display it.\n"
   ]
  },
  {
   "cell_type": "code",
   "execution_count": 11,
   "metadata": {},
   "outputs": [
    {
     "name": "stdout",
     "output_type": "stream",
     "text": [
      "[[255 255 255 ... 255 255 255]\n",
      " [255 255 255 ... 255 255 255]\n",
      " [255 255 255 ... 255 255 255]\n",
      " ...\n",
      " [  0   0   0 ...   0   0   0]\n",
      " [  0   0   0 ... 255   0   0]\n",
      " [  0   0   0 ... 255 255 255]]\n"
     ]
    }
   ],
   "source": [
    "import cv2\n",
    "\n",
    "# Load the image in grayscale mode\n",
    "img = cv2.imread('image.jpg', cv2.IMREAD_GRAYSCALE)\n",
    "\n",
    "# Convert the image to binary\n",
    "ret, binary_img = cv2.threshold(img, 127, 255, cv2.THRESH_BINARY)\n",
    "print(binary_img)\n",
    "# Display the binary image\n",
    "cv2.imshow('Binary Image', binary_img)\n",
    "cv2.imwrite('binary_image.jpg', binary_img)\n",
    "cv2.waitKey(0)\n",
    "cv2.destroyAllWindows()\n"
   ]
  },
  {
   "attachments": {},
   "cell_type": "markdown",
   "metadata": {},
   "source": [
    "#### 3.Blur the input image and display it."
   ]
  },
  {
   "cell_type": "code",
   "execution_count": 16,
   "metadata": {},
   "outputs": [
    {
     "name": "stdout",
     "output_type": "stream",
     "text": [
      "[[[225 142  91]\n",
      "  [225 142  91]\n",
      "  [225 142  90]\n",
      "  ...\n",
      "  [246 244 120]\n",
      "  [246 244 120]\n",
      "  [245 244 120]]\n",
      "\n",
      " [[225 142  91]\n",
      "  [225 142  91]\n",
      "  [225 142  90]\n",
      "  ...\n",
      "  [246 244 120]\n",
      "  [246 244 120]\n",
      "  [245 244 120]]\n",
      "\n",
      " [[225 142  91]\n",
      "  [225 142  90]\n",
      "  [225 142  90]\n",
      "  ...\n",
      "  [246 244 120]\n",
      "  [246 244 120]\n",
      "  [245 244 120]]\n",
      "\n",
      " ...\n",
      "\n",
      " [[ 37  66 110]\n",
      "  [ 37  65 109]\n",
      "  [ 37  63 106]\n",
      "  ...\n",
      "  [ 63 101 106]\n",
      "  [ 59 101 106]\n",
      "  [ 57 100 105]]\n",
      "\n",
      " [[ 41  72 119]\n",
      "  [ 41  70 118]\n",
      "  [ 40  67 114]\n",
      "  ...\n",
      "  [ 68 111 118]\n",
      "  [ 63 110 118]\n",
      "  [ 61 109 117]]\n",
      "\n",
      " [[ 42  74 122]\n",
      "  [ 42  72 121]\n",
      "  [ 41  69 116]\n",
      "  ...\n",
      "  [ 70 114 123]\n",
      "  [ 65 114 122]\n",
      "  [ 63 113 122]]]\n"
     ]
    }
   ],
   "source": [
    "import cv2\n",
    "\n",
    "# Load the image\n",
    "img = cv2.imread('image.jpg')\n",
    "\n",
    "# Blur the image\n",
    "blurred_img = cv2.GaussianBlur(img, (11, 11), 0)\n",
    "print(blurred_img)\n",
    "cv2.imshow('Blurred Image', blurred_img)\n",
    "cv2.imwrite('blurr.jpg',blurred_img)\n",
    "cv2.waitKey(0)\n",
    "cv2.destroyAllWindows()\n"
   ]
  },
  {
   "attachments": {},
   "cell_type": "markdown",
   "metadata": {},
   "source": [
    "#### 4.Detect the image edge and display it."
   ]
  },
  {
   "cell_type": "code",
   "execution_count": 4,
   "metadata": {},
   "outputs": [],
   "source": [
    "import cv2\n",
    "\n",
    "# Load the image\n",
    "img = cv2.imread('image.jpg')\n",
    "\n",
    "# Convert the image to grayscale\n",
    "gray_img = cv2.cvtColor(img, cv2.COLOR_BGR2GRAY)\n",
    "\n",
    "# Detect edges in the image\n",
    "edges = cv2.Canny(gray_img, 100, 200)\n",
    "\n",
    "# Display the edges\n",
    "cv2.imshow('Edges', edges)\n",
    "cv2.imwrite('edgeDetection.jpg',edges)\n",
    "cv2.waitKey(0)\n",
    "cv2.destroyAllWindows()\n"
   ]
  },
  {
   "attachments": {},
   "cell_type": "markdown",
   "metadata": {},
   "source": [
    "#### 5.Resize the input image and display it."
   ]
  },
  {
   "cell_type": "code",
   "execution_count": 15,
   "metadata": {},
   "outputs": [
    {
     "name": "stdout",
     "output_type": "stream",
     "text": [
      "3\n"
     ]
    }
   ],
   "source": [
    "import cv2\n",
    "\n",
    "img = cv2.imread('image.jpg')\n",
    "height, width = img.shape[:2]\n",
    "new_width = 500\n",
    "new_height = int(new_width * height / width)\n",
    "resized_img = cv2.resize(img, (new_width, new_height))\n",
    "cv2.imshow('Resized Image', resized_img)\n",
    "cv2.imwrite('resized.jpg',resized_img)\n",
    "cv2.waitKey(0)\n",
    "cv2.destroyAllWindows()\n"
   ]
  },
  {
   "cell_type": "code",
   "execution_count": null,
   "metadata": {},
   "outputs": [],
   "source": []
  }
 ],
 "metadata": {
  "kernelspec": {
   "display_name": "base",
   "language": "python",
   "name": "python3"
  },
  "language_info": {
   "codemirror_mode": {
    "name": "ipython",
    "version": 3
   },
   "file_extension": ".py",
   "mimetype": "text/x-python",
   "name": "python",
   "nbconvert_exporter": "python",
   "pygments_lexer": "ipython3",
   "version": "3.8.8"
  },
  "orig_nbformat": 4
 },
 "nbformat": 4,
 "nbformat_minor": 2
}
